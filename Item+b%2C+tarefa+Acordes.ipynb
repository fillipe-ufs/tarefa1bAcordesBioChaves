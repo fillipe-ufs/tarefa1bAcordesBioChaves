{
 "cells": [
  {
   "cell_type": "markdown",
   "metadata": {},
   "source": [
    "## TAREFA 1B GRUPO ACORDES"
   ]
  },
  {
   "cell_type": "raw",
   "metadata": {},
   "source": [
    "Objetivo:  encontrar automaticamente 5 pontos num plano -- P1=(X1, Y1), P2=(X2, Y2),..., P5=(X5, Y5) -- tais que as distâncias respectivas entre esses pontos sejam quase iguais ou, pelo menos, ajustadas com o mínimo desvio possível daquelas da tabela abaixo."
   ]
  },
  {
   "cell_type": "raw",
   "metadata": {},
   "source": [
    " Considerar a seguinte tabela com distâncias entre cidades, em Km:\n",
    " \n",
    "    1\t 2\t  3\t     4\t     5\n",
    "  ------------------------------------\n",
    "1 |\t0\t205\t 3366\t2580\t3030\n",
    "\n",
    "2 |\t205\t 0\t 3521\t2783\t3097\n",
    "\n",
    "3 |\t3366 3521\t0\t2821    1630\n",
    "\n",
    "4 |\t2580 2783  2821\t  0\t    3794\n",
    "\n",
    "5 |\t3030 3097  1630\t  3794    0\n",
    "\n",
    "\n"
   ]
  },
  {
   "cell_type": "raw",
   "metadata": {},
   "source": [
    "Passo 01: Inicializa aleatoriamente 5 pontos num plano: P1=(X1, Y1), P2=(X2, Y2),..., P5=(X5, Y5)  "
   ]
  },
  {
   "cell_type": "raw",
   "metadata": {},
   "source": [
    "Passo 2: Escolhe aleatoriamente um número n, de 1 a 5"
   ]
  },
  {
   "cell_type": "raw",
   "metadata": {},
   "source": [
    "Passo 03: Computa,  para Pn, 4 distâncias (distância Euclideana) entre Pn e os demais pontos. Por exemplo, se n=3, devem então ser computadas D(P3,P1), D(P3,P2), D(P3,P4) e D(P3,P5), onde D(Pn,Pm) representa a medida de distância entre Pn e Pm.Escolhe aleatoriamente um número n, de 1 a 5"
   ]
  },
  {
   "cell_type": "raw",
   "metadata": {},
   "source": [
    "As distâncias devem então ser organizadas num vetor como v3 = [ D(P3,P1)   D(P3,P2)   0   D(P3,P4)   D(P3,P5) ], para o caso n=3"
   ]
  },
  {
   "cell_type": "raw",
   "metadata": {},
   "source": [
    "J(Pn) = norma do vetor resultante da subtração entre vn e a n-ésima linha da tabela. \n",
    "\n",
    "Logo, como Pn=(Xn,Yn), então J(Pn) é função das coordenadas no n-ésimo ponto. Portanto, é possível (e simples, usando regra da cadeia), se encontrar analiticamente as derivadas parciais dJ(Xn,Yn)/dXn  e dJ(Xn,Yn)/dYn. Aqui, vale a pena usar representação matricial para simplificar as expressões de derivadas parciais na forma de vetor gradiente. Procurem se certificar de que a fórmula encontrada para o gradiente de J ficou clara para todos os que vão participar desta tarefa. Isso é importante para que todos se apoderem do método como algo simples (não como uma caixa-preta). Não passem à implementação computacional sem entenderem bem esta passagem, ok?"
   ]
  },
  {
   "cell_type": "raw",
   "metadata": {},
   "source": [
    "Passo 05: Faz um minúsculo ajuste de Xn para Xn-passo*dJ(Xn,Yn)/dXn, e de Yn para Yn-passo*dJ(Xn,Yn)/dYn, onde  passo é um escalar positivo bem pequeno, escolhido arbitrariamente (no chutômetro!). Tipicamente, valores como 0.001 devem servir..."
   ]
  },
  {
   "cell_type": "raw",
   "metadata": {},
   "source": [
    "Passo 06: voltar ao passo 2 até que os 5 pontos parem de se mexer (ou se mexam muito pouco)."
   ]
  }
 ],
 "metadata": {
  "kernelspec": {
   "display_name": "Python 3",
   "language": "python",
   "name": "python3"
  },
  "language_info": {
   "codemirror_mode": {
    "name": "ipython",
    "version": 3
   },
   "file_extension": ".py",
   "mimetype": "text/x-python",
   "name": "python",
   "nbconvert_exporter": "python",
   "pygments_lexer": "ipython3",
   "version": "3.6.3"
  }
 },
 "nbformat": 4,
 "nbformat_minor": 2
}
